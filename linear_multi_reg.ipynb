{
  "nbformat": 4,
  "nbformat_minor": 0,
  "metadata": {
    "colab": {
      "name": "linear_multi_reg",
      "version": "0.3.2",
      "provenance": [],
      "collapsed_sections": [],
      "include_colab_link": true
    },
    "kernelspec": {
      "name": "python3",
      "display_name": "Python 3"
    }
  },
  "cells": [
    {
      "cell_type": "markdown",
      "metadata": {
        "id": "view-in-github",
        "colab_type": "text"
      },
      "source": [
        "<a href=\"https://colab.research.google.com/github/Said-Akbar/Data-science/blob/master/linear_multi_reg.ipynb\" target=\"_parent\"><img src=\"https://colab.research.google.com/assets/colab-badge.svg\" alt=\"Open In Colab\"/></a>"
      ]
    },
    {
      "cell_type": "markdown",
      "metadata": {
        "id": "QyHJvL0WJhL6",
        "colab_type": "text"
      },
      "source": [
        "##Linear Regression with gradient descent "
      ]
    },
    {
      "cell_type": "code",
      "metadata": {
        "id": "eXq9N5oXkLki",
        "colab_type": "code",
        "colab": {}
      },
      "source": [
        "import numpy as np\n",
        "import pandas as pd\n",
        "import matplotlib.pyplot as plt\n",
        "%matplotlib inline"
      ],
      "execution_count": 0,
      "outputs": []
    },
    {
      "cell_type": "markdown",
      "metadata": {
        "id": "nHag-1I2FkkO",
        "colab_type": "text"
      },
      "source": [
        "Linear regression is done in few steps if one is familiar with linear algebra. In this notebook, I performed linear regression using numpy and pandas library. There is only one part where I use LinearRegression from sklearn only to compare my thetas with sklearn's predicted thetas. The dataset is from Andrew Ng's Machine Learning MOOC, exercise on linear regression. "
      ]
    },
    {
      "cell_type": "code",
      "metadata": {
        "id": "0TaprjBQfr-4",
        "colab_type": "code",
        "colab": {}
      },
      "source": [
        "# Single variable regression"
      ],
      "execution_count": 0,
      "outputs": []
    },
    {
      "cell_type": "code",
      "metadata": {
        "id": "emYDuk0rFeCs",
        "colab_type": "code",
        "colab": {}
      },
      "source": [
        "# load dataset and do not accept the first row as column name, then set column names as X, y\n",
        "ex1 = pd.read_csv('ex1data1.txt', header=None, names=['X', 'y'])"
      ],
      "execution_count": 0,
      "outputs": []
    },
    {
      "cell_type": "code",
      "metadata": {
        "id": "ABQ5glellbrw",
        "colab_type": "code",
        "outputId": "cb6499e7-69b9-4902-8d67-f54afce1120b",
        "colab": {
          "base_uri": "https://localhost:8080/",
          "height": 139
        }
      },
      "source": [
        "ex1.info()"
      ],
      "execution_count": 0,
      "outputs": [
        {
          "output_type": "stream",
          "text": [
            "<class 'pandas.core.frame.DataFrame'>\n",
            "RangeIndex: 97 entries, 0 to 96\n",
            "Data columns (total 2 columns):\n",
            "X    97 non-null float64\n",
            "y    97 non-null float64\n",
            "dtypes: float64(2)\n",
            "memory usage: 1.6 KB\n"
          ],
          "name": "stdout"
        }
      ]
    },
    {
      "cell_type": "code",
      "metadata": {
        "id": "NgJkmzoDlcPP",
        "colab_type": "code",
        "outputId": "6969677e-e05a-4675-8ad6-f7cab83f52c2",
        "colab": {
          "base_uri": "https://localhost:8080/",
          "height": 300
        }
      },
      "source": [
        "ex1.plot('X', 'y', kind='scatter', grid=True) # check the graph of the dataset"
      ],
      "execution_count": 0,
      "outputs": [
        {
          "output_type": "execute_result",
          "data": {
            "text/plain": [
              "<matplotlib.axes._subplots.AxesSubplot at 0x7f5404773128>"
            ]
          },
          "metadata": {
            "tags": []
          },
          "execution_count": 34
        },
        {
          "output_type": "display_data",
          "data": {
            "image/png": "[encoded data removed]",
            "text/plain": [
              "<Figure size 432x288 with 1 Axes>"
            ]
          },
          "metadata": {
            "tags": []
          }
        }
      ]
    },
    {
      "cell_type": "code",
      "metadata": {
        "id": "zzVkWv_LqBN2",
        "colab_type": "code",
        "colab": {}
      },
      "source": [
        "y = np.array(ex1['y'], dtype=np.float64)\n",
        "X = np.array(ex1['X'], dtype=np.float64)\n",
        "X=np.c_[np.ones(X.size),X] # ones and X's for calculating y_hat, concatenate by (columns) the second axis\n",
        "y = np.array(y, dtype=np.float64).reshape(len(y),1)"
      ],
      "execution_count": 0,
      "outputs": []
    },
    {
      "cell_type": "code",
      "metadata": {
        "id": "1nq-tdpSn1ll",
        "colab_type": "code",
        "colab": {}
      },
      "source": [
        "def cost_func(X,y,theta=[[0],[0]]):\n",
        "  m = y.size\n",
        "  h = X.dot(theta)\n",
        "  J = (1/(2*m))*np.sum(np.square(h-y)) # cost J for this particular set of thetas\n",
        "  return J\n",
        "  "
      ],
      "execution_count": 0,
      "outputs": []
    },
    {
      "cell_type": "code",
      "metadata": {
        "id": "1drc-rWmqB1Q",
        "colab_type": "code",
        "outputId": "51c8af58-d865-4e4e-ae07-8d4f56a7cc1f",
        "colab": {
          "base_uri": "https://localhost:8080/",
          "height": 34
        }
      },
      "source": [
        "cost_func(X,y)"
      ],
      "execution_count": 0,
      "outputs": [
        {
          "output_type": "execute_result",
          "data": {
            "text/plain": [
              "32.072733877455676"
            ]
          },
          "metadata": {
            "tags": []
          },
          "execution_count": 87
        }
      ]
    },
    {
      "cell_type": "code",
      "metadata": {
        "id": "oCR9EbPo00kZ",
        "colab_type": "code",
        "colab": {}
      },
      "source": [
        "def grad_desc(X, y, theta=[[0],[0]], alpha = 0.01,iters=4000): #changing alpha to 0.03 will diverge the gradient from minimum\n",
        "  m = y.size\n",
        "  theta = np.array(theta, dtype=np.float64)\n",
        "  alpha = np.array(alpha, dtype=np.float64)\n",
        "  J_hist = []\n",
        "  parm=alpha * (1/m)\n",
        "  #print(parm)\n",
        "  for iternt in range(iters):\n",
        "    h=X.dot(theta)\n",
        "    theta = theta - parm * (X.T.dot(h-y)) # here is what happens: X (97,2) transpose becomes (2,97); then h-y gives errors with (97,1); \n",
        "    #multiply X.T by errors, you get (2,1) matrix, then each multiplied by alpha/m\n",
        "    J_hist.append(cost_func(X, y, theta))\n",
        "  return theta, J_hist\n",
        "    \n"
      ],
      "execution_count": 0,
      "outputs": []
    },
    {
      "cell_type": "code",
      "metadata": {
        "id": "k96n_PZQTuAH",
        "colab_type": "code",
        "outputId": "80b13fab-d5e3-4baf-ffa4-924cb585ae6c",
        "colab": {
          "base_uri": "https://localhost:8080/",
          "height": 89
        }
      },
      "source": [
        "#this is an example of what happens if the learning rate is too high.\n",
        "theta=[[0],[0]]\n",
        "parm = 0.03 *1/97\n",
        "thetas = []\n",
        "costs=[]\n",
        "for i in range(40):\n",
        "  h=X.dot(theta)\n",
        "  \n",
        "  theta=theta - parm* (X.T.dot(h-y))\n",
        "  thetas.append(theta)\n",
        "  costs.append(cost_func(X, y, theta))\n",
        "#print(theta)\n",
        "print(thetas[-1])\n",
        "print(costs)"
      ],
      "execution_count": 0,
      "outputs": [
        {
          "output_type": "stream",
          "text": [
            "[[ -359255.0738483 ]\n",
            " [-3576062.73711431]]\n",
            "[62.170089597848055, 126.93475010623585, 266.27689783649186, 566.0529030780227, 1210.960398676191, 2598.3282637417014, 5582.906152087819, 12003.465439687388, 25815.644079732458, 55528.967409057346, 119449.46401421532, 256957.7890231618, 552771.1704754743, 1189136.6711308532, 2558111.404435414, 5503104.190678219, 11838489.552713841, 25467421.963190373, 54786522.21095106, 117858934.13662298, 253542809.56250706, 545431346.6808704, 1173353550.637582, 2524164713.3832316, 5430083290.382117, 11681410647.613314, 25129514127.367218, 54059607988.6125, 116295173924.00833, 250178793032.73053, 538194547308.2763, 1157785467117.1145, 2490674040782.7305, 5358036832923.844, 11526421455761.678, 24796095233892.26, 53342344040439.16, 114752167262188.02, 246859415877689.72, 531053771457222.7]\n"
          ],
          "name": "stdout"
        }
      ]
    },
    {
      "cell_type": "code",
      "metadata": {
        "id": "PLJ_oV7Q3c0L",
        "colab_type": "code",
        "outputId": "889c9c98-6b30-4546-c56e-e15dca8253bc",
        "colab": {
          "base_uri": "https://localhost:8080/",
          "height": 321
        }
      },
      "source": [
        "theta, cost = grad_desc(X,y)\n",
        "print(theta)\n",
        "plt.plot(cost)"
      ],
      "execution_count": 0,
      "outputs": [
        {
          "output_type": "stream",
          "text": [
            "[[-3.89286253]\n",
            " [ 1.19274046]]\n"
          ],
          "name": "stdout"
        },
        {
          "output_type": "execute_result",
          "data": {
            "text/plain": [
              "[<matplotlib.lines.Line2D at 0x7f5403dbac88>]"
            ]
          },
          "metadata": {
            "tags": []
          },
          "execution_count": 150
        },
        {
          "output_type": "display_data",
          "data": {
            "image/png": "[encoded data removed]",
            "text/plain": [
              "<Figure size 432x288 with 1 Axes>"
            ]
          },
          "metadata": {
            "tags": []
          }
        }
      ]
    },
    {
      "cell_type": "markdown",
      "metadata": {
        "id": "MH2satQ1HuMs",
        "colab_type": "text"
      },
      "source": [
        " Theta0 (intercept) is -3.89286 and theta1 is 1.1927 with our gradient descent estimate."
      ]
    },
    {
      "cell_type": "markdown",
      "metadata": {
        "id": "cEyq_IADG9UC",
        "colab_type": "text"
      },
      "source": [
        "As we can see from above graph, gradient descent function is decreasing the cost of the function. Eventually, it reaches the point where there is no decrease in the cost. That is the point in which we obtain estimated thetas.\n",
        "Next, we use LinearRegression from sklearn to compare thetas."
      ]
    },
    {
      "cell_type": "code",
      "metadata": {
        "id": "FGmT-wXqMQJB",
        "colab_type": "code",
        "colab": {}
      },
      "source": [
        "from sklearn.linear_model import LinearRegression"
      ],
      "execution_count": 0,
      "outputs": []
    },
    {
      "cell_type": "code",
      "metadata": {
        "id": "t3NSiZaTMf6r",
        "colab_type": "code",
        "colab": {}
      },
      "source": [
        "lr=LinearRegression()"
      ],
      "execution_count": 0,
      "outputs": []
    },
    {
      "cell_type": "code",
      "metadata": {
        "id": "0vL_-H0hMjDT",
        "colab_type": "code",
        "outputId": "651f2f45-5ef2-4c52-a138-7ef5b71f75e9",
        "colab": {
          "base_uri": "https://localhost:8080/",
          "height": 52
        }
      },
      "source": [
        "lr.fit(np.array(ex1['X']).reshape(len(X),1),np.array(ex1['y']).reshape(len(y),1))"
      ],
      "execution_count": 0,
      "outputs": [
        {
          "output_type": "execute_result",
          "data": {
            "text/plain": [
              "LinearRegression(copy_X=True, fit_intercept=True, n_jobs=None,\n",
              "         normalize=False)"
            ]
          },
          "metadata": {
            "tags": []
          },
          "execution_count": 153
        }
      ]
    },
    {
      "cell_type": "code",
      "metadata": {
        "id": "EhfMnndgOtde",
        "colab_type": "code",
        "outputId": "9dd2b131-3f24-44c0-a9ae-3f5c2836b43d",
        "colab": {
          "base_uri": "https://localhost:8080/",
          "height": 34
        }
      },
      "source": [
        "print(lr.intercept_ , lr.coef_)"
      ],
      "execution_count": 0,
      "outputs": [
        {
          "output_type": "stream",
          "text": [
            "[-3.89578088] [[1.19303364]]\n"
          ],
          "name": "stdout"
        }
      ]
    },
    {
      "cell_type": "markdown",
      "metadata": {
        "id": "otf8UxZ0IgUK",
        "colab_type": "text"
      },
      "source": [
        "This is great! The estimated thetas with sklearn method is almost the same as our estimates (Theta0 (intercept) is -3.893 and theta1 is 1.1927).  "
      ]
    },
    {
      "cell_type": "code",
      "metadata": {
        "id": "eQxXnLUWOkBo",
        "colab_type": "code",
        "colab": {}
      },
      "source": [
        ""
      ],
      "execution_count": 0,
      "outputs": []
    },
    {
      "cell_type": "markdown",
      "metadata": {
        "id": "akXhUaXkfyvL",
        "colab_type": "text"
      },
      "source": [
        "#Multivariate regression"
      ]
    },
    {
      "cell_type": "code",
      "metadata": {
        "id": "Vf_a0_OBf1bE",
        "colab_type": "code",
        "colab": {}
      },
      "source": [
        "ex2 = pd.read_csv('ex1data2.txt', header=None, names=['X1', 'X2',  'y'])"
      ],
      "execution_count": 0,
      "outputs": []
    },
    {
      "cell_type": "code",
      "metadata": {
        "id": "meelvug9f7Uq",
        "colab_type": "code",
        "outputId": "13451146-32ad-4849-c10b-719e8779323f",
        "colab": {
          "base_uri": "https://localhost:8080/",
          "height": 206
        }
      },
      "source": [
        "ex2.head()"
      ],
      "execution_count": 0,
      "outputs": [
        {
          "output_type": "execute_result",
          "data": {
            "text/html": [
              "<div>\n",
              "<style scoped>\n",
              "    .dataframe tbody tr th:only-of-type {\n",
              "        vertical-align: middle;\n",
              "    }\n",
              "\n",
              "    .dataframe tbody tr th {\n",
              "        vertical-align: top;\n",
              "    }\n",
              "\n",
              "    .dataframe thead th {\n",
              "        text-align: right;\n",
              "    }\n",
              "</style>\n",
              "<table border=\"1\" class=\"dataframe\">\n",
              "  <thead>\n",
              "    <tr style=\"text-align: right;\">\n",
              "      <th></th>\n",
              "      <th>X1</th>\n",
              "      <th>X2</th>\n",
              "      <th>y</th>\n",
              "    </tr>\n",
              "  </thead>\n",
              "  <tbody>\n",
              "    <tr>\n",
              "      <th>0</th>\n",
              "      <td>2104</td>\n",
              "      <td>3</td>\n",
              "      <td>399900</td>\n",
              "    </tr>\n",
              "    <tr>\n",
              "      <th>1</th>\n",
              "      <td>1600</td>\n",
              "      <td>3</td>\n",
              "      <td>329900</td>\n",
              "    </tr>\n",
              "    <tr>\n",
              "      <th>2</th>\n",
              "      <td>2400</td>\n",
              "      <td>3</td>\n",
              "      <td>369000</td>\n",
              "    </tr>\n",
              "    <tr>\n",
              "      <th>3</th>\n",
              "      <td>1416</td>\n",
              "      <td>2</td>\n",
              "      <td>232000</td>\n",
              "    </tr>\n",
              "    <tr>\n",
              "      <th>4</th>\n",
              "      <td>3000</td>\n",
              "      <td>4</td>\n",
              "      <td>539900</td>\n",
              "    </tr>\n",
              "  </tbody>\n",
              "</table>\n",
              "</div>"
            ],
            "text/plain": [
              "     X1  X2       y\n",
              "0  2104   3  399900\n",
              "1  1600   3  329900\n",
              "2  2400   3  369000\n",
              "3  1416   2  232000\n",
              "4  3000   4  539900"
            ]
          },
          "metadata": {
            "tags": []
          },
          "execution_count": 6
        }
      ]
    },
    {
      "cell_type": "code",
      "metadata": {
        "id": "NvWV2QVWgBKU",
        "colab_type": "code",
        "colab": {}
      },
      "source": [
        "ex2 = ex2.astype('float64')"
      ],
      "execution_count": 0,
      "outputs": []
    },
    {
      "cell_type": "code",
      "metadata": {
        "id": "_312Z7r0gPq3",
        "colab_type": "code",
        "colab": {}
      },
      "source": [
        "y = ex2['y']\n",
        "X1 = ex2['X1']\n",
        "X2 = ex2['X2']\n",
        "# normalizing the dataset so that our gradient descent works without memory limitations\n",
        "stdx1 = np.std(X1)\n",
        "meanx1= X1.mean()\n",
        "\n",
        "X1 = (X1 - meanx1)/stdx1\n",
        "\n",
        "stdx2 = np.std(X2)\n",
        "meanx2= X2.mean()\n",
        "X2 = (X2 - meanx2)/stdx2\n",
        "\n",
        "X=np.c_[np.ones(X1.size),X1, X2]\n",
        "\n",
        "y = np.array(y).reshape(len(y),1)"
      ],
      "execution_count": 0,
      "outputs": []
    },
    {
      "cell_type": "code",
      "metadata": {
        "id": "6Fka5Ophgqtc",
        "colab_type": "code",
        "colab": {}
      },
      "source": [
        "def cost_func(X,y,theta=[[0],[0], [0]]):\n",
        "  m = y.size\n",
        "  h = X.dot(theta)\n",
        "  J = (1/(2*m))*np.sum(np.square(h-y)) # cost J for this particular set of thetas\n",
        "  return J\n",
        "  "
      ],
      "execution_count": 0,
      "outputs": []
    },
    {
      "cell_type": "code",
      "metadata": {
        "id": "477qVBm3g5iM",
        "colab_type": "code",
        "outputId": "6b908aab-2731-4662-d1d4-7a4d60ff60e1",
        "colab": {
          "base_uri": "https://localhost:8080/",
          "height": 34
        }
      },
      "source": [
        "cost_func(X,y)"
      ],
      "execution_count": 0,
      "outputs": [
        {
          "output_type": "execute_result",
          "data": {
            "text/plain": [
              "65591548106.45744"
            ]
          },
          "metadata": {
            "tags": []
          },
          "execution_count": 24
        }
      ]
    },
    {
      "cell_type": "code",
      "metadata": {
        "id": "yPR9hcfdhVgz",
        "colab_type": "code",
        "colab": {}
      },
      "source": [
        "def grad_desc(X, y, theta=[[0],[0], [0]], alpha = 0.01,iters=1500): #changing alpha to 0.03 will diverge the gradient from minimum\n",
        "  m = y.size\n",
        "  theta = np.array(theta, dtype=np.float64)\n",
        "  alpha = np.array(alpha, dtype=np.float64)\n",
        "  J_hist = []\n",
        "  parm=alpha * (1/m)\n",
        "  #print(parm)\n",
        "  for iternt in range(iters):\n",
        "    h=X.dot(theta)\n",
        "    theta = theta - parm * (X.T.dot(h-y)) # here is what happens: X (97,2) transpose becomes (2,97); then h-y gives errors with (97,1); \n",
        "    #multiply X.T by errors, you get (2,1) matrix, then each multiplied by alpha/m\n",
        "    cc = cost_func(X, y, theta)\n",
        "    #print(cc)\n",
        "    J_hist.append(cc)\n",
        "  return theta, J_hist, cc"
      ],
      "execution_count": 0,
      "outputs": []
    },
    {
      "cell_type": "code",
      "metadata": {
        "id": "2iQdzgm3hkQD",
        "colab_type": "code",
        "colab": {}
      },
      "source": [
        "theta,_,_=grad_desc(X,y, alpha=0.1)"
      ],
      "execution_count": 0,
      "outputs": []
    },
    {
      "cell_type": "code",
      "metadata": {
        "id": "dO0aE5JVjOYY",
        "colab_type": "code",
        "outputId": "28147a92-d5f9-409b-da68-6fb1c1e18b90",
        "colab": {
          "base_uri": "https://localhost:8080/",
          "height": 69
        }
      },
      "source": [
        "theta"
      ],
      "execution_count": 0,
      "outputs": [
        {
          "output_type": "execute_result",
          "data": {
            "text/plain": [
              "array([[340412.65957447],\n",
              "       [109447.79646964],\n",
              "       [ -6578.35485416]])"
            ]
          },
          "metadata": {
            "tags": []
          },
          "execution_count": 27
        }
      ]
    },
    {
      "cell_type": "markdown",
      "metadata": {
        "id": "kqV5-qw5JNif",
        "colab_type": "text"
      },
      "source": [
        "Our estimated thetas are shown above. Below, we estimate those thetas using sklearn. As we can see, the estimated thetas are the same in both cases."
      ]
    },
    {
      "cell_type": "code",
      "metadata": {
        "id": "oEIuk6cQkM67",
        "colab_type": "code",
        "outputId": "5e3a3f74-5e79-4eea-f6c5-fc98539cf30f",
        "colab": {
          "base_uri": "https://localhost:8080/",
          "height": 52
        }
      },
      "source": [
        "from sklearn.linear_model import LinearRegression\n",
        "lr=LinearRegression()\n",
        "lr.fit(np.c_[X1, X2],np.array(ex2['y']).reshape(len(y),1))"
      ],
      "execution_count": 0,
      "outputs": [
        {
          "output_type": "execute_result",
          "data": {
            "text/plain": [
              "LinearRegression(copy_X=True, fit_intercept=True, n_jobs=None,\n",
              "         normalize=False)"
            ]
          },
          "metadata": {
            "tags": []
          },
          "execution_count": 42
        }
      ]
    },
    {
      "cell_type": "code",
      "metadata": {
        "id": "T9vt5BdmmTjr",
        "colab_type": "code",
        "outputId": "7da9c626-4daa-4138-9927-9d2835c46dcd",
        "colab": {
          "base_uri": "https://localhost:8080/",
          "height": 52
        }
      },
      "source": [
        "print(lr.intercept_)\n",
        "print(lr.coef_)"
      ],
      "execution_count": 0,
      "outputs": [
        {
          "output_type": "stream",
          "text": [
            "[340412.65957447]\n",
            "[[109447.79646964  -6578.35485416]]\n"
          ],
          "name": "stdout"
        }
      ]
    }
  ]
}