{
 "cells": [
  {
   "cell_type": "markdown",
   "metadata": {
    "collapsed": true
   },
   "source": [
    "## Ames housing prices"
   ]
  },
  {
   "cell_type": "markdown",
   "metadata": {},
   "source": [
    "This project will explore Ames housing dataset and use linear regression to analysis the prices."
   ]
  },
  {
   "cell_type": "code",
   "execution_count": 1,
   "metadata": {
    "collapsed": true
   },
   "outputs": [],
   "source": [
    "import pandas as pd\n",
    "import numpy as np\n",
    "from sklearn.linear_model import LinearRegression\n",
    "from sklearn.metrics import mean_squared_error"
   ]
  },
  {
   "cell_type": "code",
   "execution_count": 2,
   "metadata": {
    "collapsed": true
   },
   "outputs": [],
   "source": [
    "ames = pd.read_csv(\"AmesHousing.tsv\", sep='\\t')"
   ]
  },
  {
   "cell_type": "code",
   "execution_count": 3,
   "metadata": {
    "collapsed": false
   },
   "outputs": [
    {
     "name": "stdout",
     "output_type": "stream",
     "text": [
      "<class 'pandas.core.frame.DataFrame'>\n",
      "RangeIndex: 2930 entries, 0 to 2929\n",
      "Data columns (total 5 columns):\n",
      "Alley           198 non-null object\n",
      "Fireplace Qu    1508 non-null object\n",
      "Pool QC         13 non-null object\n",
      "Fence           572 non-null object\n",
      "Misc Feature    106 non-null object\n",
      "dtypes: object(5)\n",
      "memory usage: 114.5+ KB\n"
     ]
    }
   ],
   "source": [
    "# check columns that have more than 25% rows missing\n",
    "drop_cols = ames.columns[ames.isnull().sum()>round(ames.shape[0]*.25)]\n",
    "ames[drop_cols].info()"
   ]
  },
  {
   "cell_type": "code",
   "execution_count": 4,
   "metadata": {
    "collapsed": true
   },
   "outputs": [],
   "source": [
    "def impute_features(df):\n",
    "    drop_cols = df.columns[df.isnull().sum()>round(df.shape[0]*.25)]\n",
    "    df = df.drop(drop_cols, 1)\n",
    "    df = df.select_dtypes(include=['float','int'])\n",
    "    df = df.fillna(df.mean())\n",
    "    return df\n",
    "\n",
    "def transform_features(df):\n",
    "    # int to categ, scale, fillna, new features (years_until_remod)\n",
    "    # drop data leaking columns\n",
    "    d\n",
    "    return df\n",
    "\n",
    "def select_features(df):\n",
    "    \n",
    "    return df[['Gr Liv Area', 'SalePrice']]\n",
    "# split data into train test\n",
    "def train_and_test(df):\n",
    "    threshold = round(df.shape[0]/2)\n",
    "    train = df[:threshold]\n",
    "    test = df[threshold:]\n",
    "    return train, test"
   ]
  },
  {
   "cell_type": "code",
   "execution_count": 32,
   "metadata": {
    "collapsed": false
   },
   "outputs": [],
   "source": [
    "ames1 = impute_features(ames)\n",
    "train, test = train_and_test(ames1)\n",
    "# get target and independent variables\n",
    "target = 'SalePrice'\n",
    "float_cols = train.select_dtypes(include=['float']).columns\n",
    "# fit the model\n",
    "lm = LinearRegression()\n",
    "lm.fit(train[float_cols], train[target])\n",
    "\n",
    "test_pred = lm.predict(test[float_cols])\n",
    "train_pred = lm.predict(train[float_cols])\n",
    "# get accuracy\n",
    "test_rmse = np.sqrt(mean_squared_error(test_pred, test[target]))\n",
    "train_rmse = np.sqrt(mean_squared_error(train_pred, train[target]))"
   ]
  },
  {
   "cell_type": "code",
   "execution_count": 33,
   "metadata": {
    "collapsed": false
   },
   "outputs": [
    {
     "name": "stdout",
     "output_type": "stream",
     "text": [
      "Test RMSE: 53629.22 \n",
      "Train RMSE:  41888.51\n"
     ]
    }
   ],
   "source": [
    "print('Test RMSE:',round(test_rmse, 2), '\\nTrain RMSE: ', round(train_rmse,2))"
   ]
  },
  {
   "cell_type": "code",
   "execution_count": 151,
   "metadata": {
    "collapsed": false
   },
   "outputs": [],
   "source": [
    "def transform_features(ames):\n",
    "    # drop columns with more than 25% missing\n",
    "    df = ames[ames.columns[(ames.isnull().sum()<round(ames.shape[0]*.25))]]\n",
    "\n",
    "    # drop text columns with any missing rows\n",
    "    missing_objcol=df.select_dtypes(include=['object']).columns[(df.select_dtypes(include=['object']).isnull().sum()>0)]\n",
    "    df=df.drop(missing_objcol,1)\n",
    "    df=df.drop(['PID', 'Order'], 1)\n",
    "    # create features\n",
    "    df['years_since_remod'] = df['Yr Sold']-df['Year Remod/Add']\n",
    "    df['years_since_built'] = df['Yr Sold']-df['Year Built']\n",
    "    df.drop(['Yr Sold', 'Year Built', 'Year Remod/Add'], axis=1, inplace=True)\n",
    "    \n",
    "    # remove low corr fields\n",
    "    corrdf=(df.corr()['SalePrice'].abs().sort_values())\n",
    "    corrdf=corrdf[corrdf<0.4]\n",
    "    df.drop(corrdf.index, 1, inplace=True)\n",
    "    # maybe drop categories with low variance?\n",
    "    df = df.fillna(df.mean())\n",
    "    # get dummies for text columns\n",
    "    for col in df.select_dtypes(include=['object']):\n",
    "        if len(df[col].unique())<11:\n",
    "            col_dummies = pd.get_dummies(df[col])\n",
    "            df = pd.concat([df, col_dummies], axis='columns')\n",
    "        del df[col]\n",
    "    return df\n"
   ]
  },
  {
   "cell_type": "code",
   "execution_count": 153,
   "metadata": {
    "collapsed": false
   },
   "outputs": [],
   "source": [
    "# train a model again\n",
    "ames1 = transform_features(ames)\n",
    "train, test = train_and_test(ames1)\n",
    "# get target and independent variables\n",
    "target = 'SalePrice'\n",
    "float_cols = train.drop('SalePrice',1).columns\n",
    "# fit the model\n",
    "lm = LinearRegression()\n",
    "lm.fit(train[float_cols], train[target])\n",
    "\n",
    "test_pred = lm.predict(test[float_cols])\n",
    "train_pred = lm.predict(train[float_cols])\n",
    "# get accuracy\n",
    "test_rmse = np.sqrt(mean_squared_error(test_pred, test[target]))\n",
    "train_rmse = np.sqrt(mean_squared_error(train_pred, train[target]))"
   ]
  },
  {
   "cell_type": "code",
   "execution_count": 154,
   "metadata": {
    "collapsed": false
   },
   "outputs": [
    {
     "name": "stdout",
     "output_type": "stream",
     "text": [
      "Test RMSE: 38592.51 \n",
      "Train RMSE:  22464.16\n"
     ]
    }
   ],
   "source": [
    "print('Test RMSE:',round(test_rmse, 2), '\\nTrain RMSE: ', round(train_rmse,2))"
   ]
  },
  {
   "cell_type": "code",
   "execution_count": 167,
   "metadata": {
    "collapsed": false
   },
   "outputs": [
    {
     "name": "stdout",
     "output_type": "stream",
     "text": [
      "[32114.568990538315, 35859.84530457948, 28149.500147378767, 35508.20762598792, 25487.848990773324]\n"
     ]
    },
    {
     "data": {
      "text/plain": [
       "31423.99421185156"
      ]
     },
     "execution_count": 167,
     "metadata": {},
     "output_type": "execute_result"
    }
   ],
   "source": [
    "# lets perform k fold cross-validation:\n",
    "from sklearn.model_selection import KFold\n",
    "kf = KFold(5, shuffle=True, random_state=42)\n",
    "\n",
    "rmse_values=[]\n",
    "for train_data, test_data in kf.split(ames1):\n",
    "    train = ames1.iloc[train_data]\n",
    "    test = ames1.iloc[test_data]\n",
    "    \n",
    "    target = 'SalePrice'\n",
    "    float_cols = train.drop('SalePrice',1).columns\n",
    "    lm = LinearRegression()\n",
    "    lm.fit(train[float_cols], train[target])\n",
    "\n",
    "    test_pred = lm.predict(test[float_cols])\n",
    "    # get accuracy\n",
    "    test_rmse = np.sqrt(mean_squared_error(test_pred, test[target]))\n",
    "    rmse_values.append(test_rmse)\n",
    "    #print(x,y)\n",
    "print(rmse_values)\n",
    "np.mean(rmse_values)"
   ]
  },
  {
   "cell_type": "markdown",
   "metadata": {
    "collapsed": true
   },
   "source": [
    "Overall, Our model is giving us RMSE score of 31423 with k=5 cross-validation."
   ]
  }
 ],
 "metadata": {
  "anaconda-cloud": {},
  "kernelspec": {
   "display_name": "Python 3",
   "language": "python",
   "name": "python3"
  },
  "language_info": {
   "codemirror_mode": {
    "name": "ipython",
    "version": 3
   },
   "file_extension": ".py",
   "mimetype": "text/x-python",
   "name": "python",
   "nbconvert_exporter": "python",
   "pygments_lexer": "ipython3",
   "version": "3.4.3"
  }
 },
 "nbformat": 4,
 "nbformat_minor": 2
}
