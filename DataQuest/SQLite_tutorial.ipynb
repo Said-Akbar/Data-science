{
  "nbformat": 4,
  "nbformat_minor": 0,
  "metadata": {
    "colab": {
      "name": "SQLite_tutorial.ipynb",
      "version": "0.3.2",
      "provenance": [],
      "collapsed_sections": []
    },
    "kernelspec": {
      "name": "python3",
      "display_name": "Python 3"
    }
  },
  "cells": [
    {
      "cell_type": "markdown",
      "metadata": {
        "id": "z2sDRuQ_ExGJ",
        "colab_type": "text"
      },
      "source": [
        "## Connecting to database with Python"
      ]
    },
    {
      "cell_type": "code",
      "metadata": {
        "id": "cJUDmj6IANSJ",
        "colab_type": "code",
        "colab": {}
      },
      "source": [
        "# This is an exercise from Dataquest tutorial on SQL \n",
        "import sqlite3\n",
        "conn = sqlite3.connect('jobs.db') # creates an instance that keeps the db file connected to python and unchanged. After connection, we use cursor object to interact with the database.\n",
        "#Tuples are faster than lists. So, database subsets are stored as tuples in Python."
      ],
      "execution_count": 0,
      "outputs": []
    },
    {
      "cell_type": "code",
      "metadata": {
        "id": "HauINr1jAf02",
        "colab_type": "code",
        "colab": {}
      },
      "source": [
        "cursor = conn.cursor() # instantiate a cursor object"
      ],
      "execution_count": 0,
      "outputs": []
    },
    {
      "cell_type": "code",
      "metadata": {
        "id": "On7cLs9kAmwd",
        "colab_type": "code",
        "colab": {}
      },
      "source": [
        "query = \"select * from recent_grads;\" # SQL statement\n",
        "cursor.execute(query) # executes our query\n",
        "result = cursor.fetchall() # receives our subset of data"
      ],
      "execution_count": 0,
      "outputs": []
    },
    {
      "cell_type": "code",
      "metadata": {
        "id": "aZxafjboAsZl",
        "colab_type": "code",
        "colab": {
          "base_uri": "https://localhost:8080/",
          "height": 54
        },
        "outputId": "5fe0382d-92a6-47fa-e567-6026181ac1fa"
      },
      "source": [
        "print(result[0:2]) # returns tuple"
      ],
      "execution_count": 7,
      "outputs": [
        {
          "output_type": "stream",
          "text": [
            "[(0, 1, 2419, 'PETROLEUM ENGINEERING', 'Engineering', 2339, 36, 2057, 282, 0.120564344, 1976, 1849, 270, 1207, 37, 0.018380527, 110000, 95000, 125000, 1534, 364, 193), (1, 2, 2416, 'MINING AND MINERAL ENGINEERING', 'Engineering', 756, 7, 679, 77, 0.10185185199999999, 640, 556, 170, 388, 85, 0.117241379, 75000, 55000, 90000, 350, 257, 50)]\n"
          ],
          "name": "stdout"
        }
      ]
    },
    {
      "cell_type": "code",
      "metadata": {
        "id": "QMFjJ-mBA4Ld",
        "colab_type": "code",
        "colab": {
          "base_uri": "https://localhost:8080/",
          "height": 34
        },
        "outputId": "2f8e0697-39f6-486d-d841-f4e89191b52b"
      },
      "source": [
        "#Q Write a query that returns all of the values in the Major column from the recent_grads table.\n",
        "query = \"select Major from recent_grads;\"\n",
        "cursor.execute(query)\n",
        "majors = cursor.fetchall()\n",
        "print(majors[:3])"
      ],
      "execution_count": 8,
      "outputs": [
        {
          "output_type": "stream",
          "text": [
            "[('PETROLEUM ENGINEERING',), ('MINING AND MINERAL ENGINEERING',), ('METALLURGICAL ENGINEERING',)]\n"
          ],
          "name": "stdout"
        }
      ]
    },
    {
      "cell_type": "code",
      "metadata": {
        "id": "LQ1Xnr0NB6bc",
        "colab_type": "code",
        "colab": {
          "base_uri": "https://localhost:8080/",
          "height": 69
        },
        "outputId": "d7289470-602d-42a0-c699-b98dba287087"
      },
      "source": [
        "# Instead of creating a cursor object, we can directly use conn to execute our queries\n",
        "query = \"select Major from recent_grads;\"\n",
        "conn.execute(query).fetchall()[:3]"
      ],
      "execution_count": 10,
      "outputs": [
        {
          "output_type": "execute_result",
          "data": {
            "text/plain": [
              "[('PETROLEUM ENGINEERING',),\n",
              " ('MINING AND MINERAL ENGINEERING',),\n",
              " ('METALLURGICAL ENGINEERING',)]"
            ]
          },
          "metadata": {
            "tags": []
          },
          "execution_count": 10
        }
      ]
    },
    {
      "cell_type": "code",
      "metadata": {
        "id": "ReMiOa8cCd16",
        "colab_type": "code",
        "colab": {
          "base_uri": "https://localhost:8080/",
          "height": 69
        },
        "outputId": "a6c07a1c-ea56-47bb-9d0e-49c0764ab226"
      },
      "source": [
        "# we can limit the results we get from the database using fetchone() or fetchmany(n)\n",
        "query = \"select Major from recent_grads;\"\n",
        "cursor.execute(query)\n",
        "print(cursor.fetchone()) # returns the first record\n",
        "print(cursor.fetchone()) # returns the second record. As we fetch more the position cursor moves to the next record \n",
        "print(cursor.fetchmany(2)) # returns the third and fourth records from the database"
      ],
      "execution_count": 17,
      "outputs": [
        {
          "output_type": "stream",
          "text": [
            "('PETROLEUM ENGINEERING',)\n",
            "('MINING AND MINERAL ENGINEERING',)\n",
            "[('METALLURGICAL ENGINEERING',), ('NAVAL ARCHITECTURE AND MARINE ENGINEERING',)]\n"
          ],
          "name": "stdout"
        }
      ]
    },
    {
      "cell_type": "code",
      "metadata": {
        "id": "L5M8ahd9DM2j",
        "colab_type": "code",
        "colab": {
          "base_uri": "https://localhost:8080/",
          "height": 54
        },
        "outputId": "06372cd0-fc87-45eb-f5a4-a161c88d8f9a"
      },
      "source": [
        "#Q Write and run a query that returns the first five rows of Major and Major_category columns from recent_grads\n",
        "query = \"select Major, Major_category from recent_grads;\"\n",
        "cursor.execute(query)\n",
        "five_results = cursor.fetchmany(5)\n",
        "print(five_results)"
      ],
      "execution_count": 18,
      "outputs": [
        {
          "output_type": "stream",
          "text": [
            "[('PETROLEUM ENGINEERING', 'Engineering'), ('MINING AND MINERAL ENGINEERING', 'Engineering'), ('METALLURGICAL ENGINEERING', 'Engineering'), ('NAVAL ARCHITECTURE AND MARINE ENGINEERING', 'Engineering'), ('CHEMICAL ENGINEERING', 'Engineering')]\n"
          ],
          "name": "stdout"
        }
      ]
    },
    {
      "cell_type": "code",
      "metadata": {
        "id": "dzMzagdvEXX7",
        "colab_type": "code",
        "colab": {}
      },
      "source": [
        "# After finishing our work with the database, we should close the connection so that others can access it\n",
        "conn.close()"
      ],
      "execution_count": 0,
      "outputs": []
    },
    {
      "cell_type": "code",
      "metadata": {
        "id": "nS3LmRV7FPk5",
        "colab_type": "code",
        "colab": {}
      },
      "source": [
        ""
      ],
      "execution_count": 0,
      "outputs": []
    }
  ]
}