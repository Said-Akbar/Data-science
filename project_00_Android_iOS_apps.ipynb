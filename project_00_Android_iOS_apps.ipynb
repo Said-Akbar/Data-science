{
  "nbformat": 4,
  "nbformat_minor": 0,
  "metadata": {
    "kernelspec": {
      "display_name": "Python 3",
      "language": "python",
      "name": "python3"
    },
    "language_info": {
      "codemirror_mode": {
        "name": "ipython",
        "version": 3
      },
      "file_extension": ".py",
      "mimetype": "text/x-python",
      "name": "python",
      "nbconvert_exporter": "python",
      "pygments_lexer": "ipython3",
      "version": "3.4.3"
    },
    "colab": {
      "name": "Basics.ipynb",
      "version": "0.3.2",
      "provenance": [],
      "include_colab_link": true
    }
  },
  "cells": [
    {
      "cell_type": "markdown",
      "metadata": {
        "id": "view-in-github",
        "colab_type": "text"
      },
      "source": [
        "<a href=\"https://colab.research.google.com/github/Said-Akbar/Data-science/blob/master/project_00_Android_iOS_apps.ipynb\" target=\"_parent\"><img src=\"https://colab.research.google.com/assets/colab-badge.svg\" alt=\"Open In Colab\"/></a>"
      ]
    },
    {
      "cell_type": "markdown",
      "metadata": {
        "collapsed": true,
        "id": "hKeDyos-8FCE",
        "colab_type": "text"
      },
      "source": [
        "## App store and Google Play trend analyses"
      ]
    },
    {
      "cell_type": "markdown",
      "metadata": {
        "id": "VYFy1wgi8FCG",
        "colab_type": "text"
      },
      "source": [
        "The aim of this project is to analyze the app marketplace of Apple app Store and Android Google Play to find out what type of apps are more likely to attract more users."
      ]
    },
    {
      "cell_type": "code",
      "metadata": {
        "id": "hAYOUdFk8FCI",
        "colab_type": "code",
        "colab": {}
      },
      "source": [
        "from csv import reader\n",
        "def load_dataset(filename):\n",
        "    data_file = open(filename)\n",
        "    app_lists = reader(data_file)\n",
        "    apps_data = list(app_lists)\n",
        "    return apps_data[0], apps_data[1:]"
      ],
      "execution_count": 0,
      "outputs": []
    },
    {
      "cell_type": "code",
      "metadata": {
        "id": "yBfKT8jp8FCM",
        "colab_type": "code",
        "colab": {}
      },
      "source": [
        "def explore_data(dataset, start, end, rows_and_columns=False):\n",
        "    dataset_slice = dataset[start:end]    \n",
        "    for row in dataset_slice:\n",
        "        print(row)\n",
        "        print('\\n') # adds a new (empty) line after each row\n",
        "\n",
        "    if rows_and_columns:\n",
        "        print('Number of rows:', len(dataset))\n",
        "        print('Number of columns:', len(dataset[0]))"
      ],
      "execution_count": 0,
      "outputs": []
    },
    {
      "cell_type": "code",
      "metadata": {
        "id": "b1JXNVbN8FCP",
        "colab_type": "code",
        "colab": {}
      },
      "source": [
        "header_apl, apple = load_dataset('AppleStore.csv')\n",
        "header_andr, andrd = load_dataset('googleplaystore.csv')"
      ],
      "execution_count": 0,
      "outputs": []
    },
    {
      "cell_type": "code",
      "metadata": {
        "id": "fA1pxWEu8FCT",
        "colab_type": "code",
        "colab": {},
        "outputId": "50f8f22f-eaa0-4238-ebc9-7dd8b454fa71"
      },
      "source": [
        "explore_data(apple, 0,3, rows_and_columns=True)"
      ],
      "execution_count": 0,
      "outputs": [
        {
          "output_type": "stream",
          "text": [
            "['284882215', 'Facebook', '389879808', 'USD', '0.0', '2974676', '212', '3.5', '3.5', '95.0', '4+', 'Social Networking', '37', '1', '29', '1']\n",
            "\n",
            "\n",
            "['389801252', 'Instagram', '113954816', 'USD', '0.0', '2161558', '1289', '4.5', '4.0', '10.23', '12+', 'Photo & Video', '37', '0', '29', '1']\n",
            "\n",
            "\n",
            "['529479190', 'Clash of Clans', '116476928', 'USD', '0.0', '2130805', '579', '4.5', '4.5', '9.24.12', '9+', 'Games', '38', '5', '18', '1']\n",
            "\n",
            "\n",
            "Number of rows: 7197\n",
            "Number of columns: 16\n"
          ],
          "name": "stdout"
        }
      ]
    },
    {
      "cell_type": "code",
      "metadata": {
        "id": "VwObVuKo8FCd",
        "colab_type": "code",
        "colab": {},
        "outputId": "73d93946-9a72-4a55-d8fd-34aad2fd0735"
      },
      "source": [
        "explore_data(andrd, 0,3, rows_and_columns=True)"
      ],
      "execution_count": 0,
      "outputs": [
        {
          "output_type": "stream",
          "text": [
            "['Photo Editor & Candy Camera & Grid & ScrapBook', 'ART_AND_DESIGN', '4.1', '159', '19M', '10,000+', 'Free', '0', 'Everyone', 'Art & Design', 'January 7, 2018', '1.0.0', '4.0.3 and up']\n",
            "\n",
            "\n",
            "['Coloring book moana', 'ART_AND_DESIGN', '3.9', '967', '14M', '500,000+', 'Free', '0', 'Everyone', 'Art & Design;Pretend Play', 'January 15, 2018', '2.0.0', '4.0.3 and up']\n",
            "\n",
            "\n",
            "['U Launcher Lite – FREE Live Cool Themes, Hide Apps', 'ART_AND_DESIGN', '4.7', '87510', '8.7M', '5,000,000+', 'Free', '0', 'Everyone', 'Art & Design', 'August 1, 2018', '1.2.4', '4.0.3 and up']\n",
            "\n",
            "\n",
            "Number of rows: 10841\n",
            "Number of columns: 13\n"
          ],
          "name": "stdout"
        }
      ]
    },
    {
      "cell_type": "code",
      "metadata": {
        "id": "hJuBxeVR8FCh",
        "colab_type": "code",
        "colab": {},
        "outputId": "68e3b8d8-805f-4952-801f-e7792a5bc9ea"
      },
      "source": [
        "print('Android apps data header:\\n', header_andr, '\\n')\n",
        "print('Apple apps data header:\\n', header_apl)"
      ],
      "execution_count": 0,
      "outputs": [
        {
          "output_type": "stream",
          "text": [
            "Android apps data header:\n",
            " ['App', 'Category', 'Rating', 'Reviews', 'Size', 'Installs', 'Type', 'Price', 'Content Rating', 'Genres', 'Last Updated', 'Current Ver', 'Android Ver'] \n",
            "\n",
            "Apple apps data header:\n",
            " ['id', 'track_name', 'size_bytes', 'currency', 'price', 'rating_count_tot', 'rating_count_ver', 'user_rating', 'user_rating_ver', 'ver', 'cont_rating', 'prime_genre', 'sup_devices.num', 'ipadSc_urls.num', 'lang.num', 'vpp_lic']\n"
          ],
          "name": "stdout"
        }
      ]
    },
    {
      "cell_type": "markdown",
      "metadata": {
        "id": "EODTxGlp8FCm",
        "colab_type": "text"
      },
      "source": [
        "For android apps, we are interested in Category, Rating, Installs, Genres, price.\n",
        "For IOS apps, we are interested in currency, price, rating_count_tot, cont_rating and user_rating"
      ]
    },
    {
      "cell_type": "markdown",
      "metadata": {
        "id": "nfHsglht8FCn",
        "colab_type": "text"
      },
      "source": [
        "Links to the datasets and their description:\n",
        "\n",
        "[Android apps](https://www.kaggle.com/lava18/google-play-store-apps/home) \n",
        "\n",
        "[IOS apps](https://www.kaggle.com/ramamet4/app-store-apple-data-set-10k-apps/home)"
      ]
    },
    {
      "cell_type": "code",
      "metadata": {
        "id": "WlobfGJk8FCo",
        "colab_type": "code",
        "colab": {},
        "outputId": "9879bc06-c4ab-4ad4-e095-391142af0bf4"
      },
      "source": [
        "andrd[10472] # this row is missing 'category'"
      ],
      "execution_count": 0,
      "outputs": [
        {
          "output_type": "execute_result",
          "data": {
            "text/plain": [
              "['Life Made WI-Fi Touchscreen Photo Frame',\n",
              " '1.9',\n",
              " '19',\n",
              " '3.0M',\n",
              " '1,000+',\n",
              " 'Free',\n",
              " '0',\n",
              " 'Everyone',\n",
              " '',\n",
              " 'February 11, 2018',\n",
              " '1.0.19',\n",
              " '4.0 and up']"
            ]
          },
          "metadata": {
            "tags": []
          },
          "execution_count": 7
        }
      ]
    },
    {
      "cell_type": "code",
      "metadata": {
        "id": "pPQU3DJl8FCt",
        "colab_type": "code",
        "colab": {}
      },
      "source": [
        "del andrd[10472]"
      ],
      "execution_count": 0,
      "outputs": []
    },
    {
      "cell_type": "markdown",
      "metadata": {
        "id": "2jRGt6FZ8FCw",
        "colab_type": "text"
      },
      "source": [
        "There might be duplicate apps in the dataset. To check for duplicate apps, we search for similar named apps as follows:"
      ]
    },
    {
      "cell_type": "code",
      "metadata": {
        "id": "lfRZM02F8FCx",
        "colab_type": "code",
        "colab": {},
        "outputId": "729c7eef-e375-491e-d312-c4f458f20694"
      },
      "source": [
        "duplicate_apps =[]\n",
        "unique_apps = []\n",
        "for app in andrd:\n",
        "    name=app[0]\n",
        "    if name in unique_apps:\n",
        "        duplicate_apps.append(name)\n",
        "    else:\n",
        "        unique_apps.append(name)\n",
        "print('Duplicate apps:', len(duplicate_apps), '\\n')\n",
        "print('Some examples of duplicates:', duplicate_apps[:15]) "
      ],
      "execution_count": 0,
      "outputs": [
        {
          "output_type": "stream",
          "text": [
            "Duplicate apps: 1181 \n",
            "\n",
            "Some examples of duplicates: ['Quick PDF Scanner + OCR FREE', 'Box', 'Google My Business', 'ZOOM Cloud Meetings', 'join.me - Simple Meetings', 'Box', 'Zenefits', 'Google Ads', 'Google My Business', 'Slack', 'FreshBooks Classic', 'Insightly CRM', 'QuickBooks Accounting: Invoicing & Expenses', 'HipChat - Chat Built for Teams', 'Xero Accounting Software']\n"
          ],
          "name": "stdout"
        }
      ]
    },
    {
      "cell_type": "markdown",
      "metadata": {
        "id": "Awb_yjW28FC3",
        "colab_type": "text"
      },
      "source": [
        "As we can see above, Google play dataset has 1181 duplicate apps. For example, if we search for 'Google My Business' app, we encounter several copies of it:"
      ]
    },
    {
      "cell_type": "code",
      "metadata": {
        "id": "qq9_vkHf8FC4",
        "colab_type": "code",
        "colab": {},
        "outputId": "f6b0f0a3-e09b-4959-b28c-b718e8cdeebb"
      },
      "source": [
        "c=0\n",
        "for app in andrd:\n",
        "    if app[0]=='Google My Business':\n",
        "        print(app, c)\n",
        "    c+=1"
      ],
      "execution_count": 0,
      "outputs": [
        {
          "output_type": "stream",
          "text": [
            "['Google My Business', 'BUSINESS', '4.4', '70991', 'Varies with device', '5,000,000+', 'Free', '0', 'Everyone', 'Business', 'July 24, 2018', '2.19.0.204537701', '4.4 and up'] 193\n",
            "['Google My Business', 'BUSINESS', '4.4', '70991', 'Varies with device', '5,000,000+', 'Free', '0', 'Everyone', 'Business', 'July 24, 2018', '2.19.0.204537701', '4.4 and up'] 239\n",
            "['Google My Business', 'BUSINESS', '4.4', '70991', 'Varies with device', '5,000,000+', 'Free', '0', 'Everyone', 'Business', 'July 24, 2018', '2.19.0.204537701', '4.4 and up'] 268\n"
          ],
          "name": "stdout"
        }
      ]
    },
    {
      "cell_type": "markdown",
      "metadata": {
        "id": "1yQAA-Z88FC8",
        "colab_type": "text"
      },
      "source": [
        "Removing these duplicates will be done based on the number reviews. More reviews mean the data is recent. However, if reviews are the same, then rows are deleted randomly by leaving only one record in the dataset.\n"
      ]
    },
    {
      "cell_type": "code",
      "metadata": {
        "id": "gnbC2EXQ8FC-",
        "colab_type": "code",
        "colab": {}
      },
      "source": [
        "apps_dict = {}\n",
        "for app in andrd:\n",
        "    reviews = float(app[3])\n",
        "    name = app[0]\n",
        "    if (name in apps_dict) and (apps_dict[name] < reviews):\n",
        "        apps_dict[name]=reviews # if the app is already in the list, then update with max reviews\n",
        "    elif name not in apps_dict:\n",
        "        apps_dict[name]=reviews # if app not in the list, create the app name"
      ],
      "execution_count": 0,
      "outputs": []
    },
    {
      "cell_type": "code",
      "metadata": {
        "id": "TlJBmVY_8FDC",
        "colab_type": "code",
        "colab": {},
        "outputId": "f6d1de58-b4dd-4c2f-ff32-9148e15b6ff0"
      },
      "source": [
        "len(apps_dict)"
      ],
      "execution_count": 0,
      "outputs": [
        {
          "output_type": "execute_result",
          "data": {
            "text/plain": [
              "9659"
            ]
          },
          "metadata": {
            "tags": []
          },
          "execution_count": 29
        }
      ]
    },
    {
      "cell_type": "code",
      "metadata": {
        "id": "jaz9QpwF8FDH",
        "colab_type": "code",
        "colab": {}
      },
      "source": [
        "android_data = []\n",
        "names= []\n",
        "for app in andrd:\n",
        "    name = app[0]\n",
        "    reviews = float(app[3])\n",
        "    if reviews == apps_dict[name] and name not in names:\n",
        "        android_data.append(app)\n",
        "        names.append(name)"
      ],
      "execution_count": 0,
      "outputs": []
    },
    {
      "cell_type": "markdown",
      "metadata": {
        "id": "R7Hi42iN8FDL",
        "colab_type": "text"
      },
      "source": [
        "Above, we first created a new dictionary containing  maximum number of reviews for each unique app name, so duplicates with less reviews are removed. In the next step, we created a list that contains apps lists with reviews."
      ]
    },
    {
      "cell_type": "code",
      "metadata": {
        "id": "tgc-3PLQ8FDM",
        "colab_type": "code",
        "colab": {},
        "outputId": "d243366d-8b08-473f-b33d-db6d408aece5"
      },
      "source": [
        "duplicate_apps =[]\n",
        "unique_apps = []\n",
        "for app in apple:\n",
        "    name=app[1]\n",
        "    if name in unique_apps:\n",
        "        duplicate_apps.append(name)\n",
        "    else:\n",
        "        unique_apps.append(name)\n",
        "print(len(apple))\n",
        "print('Duplicate apps:', len(duplicate_apps), '\\n')\n",
        "print('Some examples of duplicates:', duplicate_apps[:15]) "
      ],
      "execution_count": 0,
      "outputs": [
        {
          "output_type": "stream",
          "text": [
            "7197\n",
            "Duplicate apps: 2 \n",
            "\n",
            "Some examples of duplicates: ['Mannequin Challenge', 'VR Roller Coaster']\n"
          ],
          "name": "stdout"
        }
      ]
    },
    {
      "cell_type": "markdown",
      "metadata": {
        "id": "fP9n5_6R8FDS",
        "colab_type": "text"
      },
      "source": [
        "Now we have to remove non-English apps"
      ]
    },
    {
      "cell_type": "code",
      "metadata": {
        "id": "LwOk4gfT8FDT",
        "colab_type": "code",
        "colab": {}
      },
      "source": [
        "def is_eng(string):\n",
        "    c=0\n",
        "    for i in string:\n",
        "        if ord(i)>127:\n",
        "            c+=1\n",
        "        if c>3: return False\n",
        "    return True"
      ],
      "execution_count": 0,
      "outputs": []
    },
    {
      "cell_type": "code",
      "metadata": {
        "id": "dlYuzev08FDY",
        "colab_type": "code",
        "colab": {},
        "outputId": "03c8ed12-b4a4-42f9-9a76-e80334b3911f"
      },
      "source": [
        "# checking the function\n",
        "print(is_eng('Instagram'))\n",
        "print(is_eng('爱奇艺PPS -《欢乐颂2》电视剧热播'))\n",
        "print(is_eng('Docs To Go™ Free Office Suite'))\n",
        "print(is_eng('Instachat 😜'))"
      ],
      "execution_count": 0,
      "outputs": [
        {
          "output_type": "stream",
          "text": [
            "True\n",
            "False\n",
            "True\n",
            "True\n"
          ],
          "name": "stdout"
        }
      ]
    },
    {
      "cell_type": "code",
      "metadata": {
        "id": "NBU1jmK98FDj",
        "colab_type": "code",
        "colab": {}
      },
      "source": [
        "android_ds = []\n",
        "ios_ds = []\n",
        "for app in android_data:\n",
        "    name=app[0]\n",
        "    if is_eng(name):\n",
        "        android_ds.append(app)\n",
        "for app in apple:\n",
        "    name=app[1]\n",
        "    if is_eng(name):\n",
        "        ios_ds.append(app)"
      ],
      "execution_count": 0,
      "outputs": []
    },
    {
      "cell_type": "code",
      "metadata": {
        "id": "im9r1SaC8FDr",
        "colab_type": "code",
        "colab": {},
        "outputId": "db5359e7-b11b-4f5a-b1b8-0fcddd0ad83b"
      },
      "source": [
        "print('Length of Android dataset:', len(android_ds))\n",
        "print('Length of iOS dataset:', len(ios_ds))"
      ],
      "execution_count": 0,
      "outputs": [
        {
          "output_type": "stream",
          "text": [
            "Length of Android dataset: 9614\n",
            "Length of iOS dataset: 6183\n"
          ],
          "name": "stdout"
        }
      ]
    },
    {
      "cell_type": "code",
      "metadata": {
        "id": "YV0wTl4N8FD2",
        "colab_type": "code",
        "colab": {}
      },
      "source": [
        "free_andr = []\n",
        "free_ios = []\n",
        "for app in android_ds:\n",
        "    if '$' in app[7]:\n",
        "        price == float(app[7].split('$')[1])\n",
        "    else:\n",
        "        price = float(app[7])\n",
        "    if price == 0.0:\n",
        "        free_andr.append(app)\n",
        "for app in ios_ds:\n",
        "    price = float(app[4])\n",
        "    if price == 0.0:\n",
        "        free_ios.append(app)"
      ],
      "execution_count": 0,
      "outputs": []
    },
    {
      "cell_type": "markdown",
      "metadata": {
        "id": "GPzH3XG18FD7",
        "colab_type": "text"
      },
      "source": [
        "Our goal is to build an app that is free and generates revenue only from in-app ads. For this purpose, we need to investigate both Google Play and iOS app markets to find out which apps are thriving in both markets."
      ]
    },
    {
      "cell_type": "markdown",
      "metadata": {
        "id": "jaDNQKqe8FD9",
        "colab_type": "text"
      },
      "source": [
        "We will have to investigate genres of apps and create a frequency table for both markets. Specifically, in Google Play dataset, we are interested in 'Genres' and 'Category', and for iOS dataset, 'prime_genre'."
      ]
    },
    {
      "cell_type": "code",
      "metadata": {
        "id": "_wCV61vI8FEA",
        "colab_type": "code",
        "colab": {}
      },
      "source": [
        "def display_table(dataset, index): # function to sort dictionary\n",
        "    table = freq_table(dataset, index)\n",
        "    table_display = []\n",
        "    for key in table:\n",
        "        key_val_as_tuple = (table[key], key)\n",
        "        table_display.append(key_val_as_tuple)\n",
        "\n",
        "    table_sorted = sorted(table_display, reverse = True)\n",
        "    for entry in table_sorted:\n",
        "        if entry[0]>20:\n",
        "            print(entry[1], ':', entry[0])"
      ],
      "execution_count": 0,
      "outputs": []
    },
    {
      "cell_type": "code",
      "metadata": {
        "id": "IDDUFjFd8FEH",
        "colab_type": "code",
        "colab": {}
      },
      "source": [
        "def freq_table(dataset, index): #function to create a frequency table\n",
        "    freqn_table = {}\n",
        "    for i in dataset:\n",
        "        col_value = i[index]\n",
        "        if col_value in freqn_table:\n",
        "            freqn_table[col_value]+=1\n",
        "        else:\n",
        "            freqn_table[col_value]=1\n",
        "    return freqn_table"
      ],
      "execution_count": 0,
      "outputs": []
    },
    {
      "cell_type": "markdown",
      "metadata": {
        "id": "cl9eYbec8FER",
        "colab_type": "text"
      },
      "source": [
        "Our functions to build a frequency table is ready. Let us check which categories are popular in both markets:"
      ]
    },
    {
      "cell_type": "code",
      "metadata": {
        "id": "fI0RjoCI8FES",
        "colab_type": "code",
        "colab": {},
        "outputId": "965aca1b-238c-4320-bea6-f3d6903aafc9"
      },
      "source": [
        "display_table(free_ios, 11)"
      ],
      "execution_count": 0,
      "outputs": [
        {
          "output_type": "stream",
          "text": [
            "Games : 1874\n",
            "Entertainment : 254\n",
            "Photo & Video : 160\n",
            "Education : 118\n",
            "Social Networking : 106\n",
            "Shopping : 84\n",
            "Utilities : 81\n",
            "Sports : 69\n",
            "Music : 66\n",
            "Health & Fitness : 65\n",
            "Productivity : 56\n",
            "Lifestyle : 51\n",
            "News : 43\n",
            "Travel : 40\n",
            "Finance : 36\n",
            "Weather : 28\n",
            "Food & Drink : 26\n"
          ],
          "name": "stdout"
        }
      ]
    },
    {
      "cell_type": "markdown",
      "metadata": {
        "id": "FLQzsKIS8FEb",
        "colab_type": "text"
      },
      "source": [
        "The most common genre for iOS is 'Games' and the runner-up is 'Entertainment'. from the table above, we can say that most of the apps are designed for entertainment. However, having a large number of apps does not imply that the genre has a large audience."
      ]
    },
    {
      "cell_type": "code",
      "metadata": {
        "id": "w-GX-LXx8FEc",
        "colab_type": "code",
        "colab": {},
        "outputId": "58d5275f-e6a4-4cd8-cf3f-5ec4b4c9fbcd"
      },
      "source": [
        "display_table(free_andr, 1)"
      ],
      "execution_count": 0,
      "outputs": [
        {
          "output_type": "stream",
          "text": [
            "FAMILY : 1858\n",
            "GAME : 944\n",
            "TOOLS : 828\n",
            "BUSINESS : 419\n",
            "MEDICAL : 395\n",
            "PERSONALIZATION : 375\n",
            "PRODUCTIVITY : 373\n",
            "LIFESTYLE : 364\n",
            "FINANCE : 345\n",
            "SPORTS : 325\n",
            "COMMUNICATION : 314\n",
            "HEALTH_AND_FITNESS : 288\n",
            "PHOTOGRAPHY : 280\n",
            "NEWS_AND_MAGAZINES : 250\n",
            "SOCIAL : 239\n",
            "TRAVEL_AND_LOCAL : 219\n",
            "BOOKS_AND_REFERENCE : 218\n",
            "SHOPPING : 201\n",
            "DATING : 170\n",
            "VIDEO_PLAYERS : 163\n",
            "MAPS_AND_NAVIGATION : 129\n",
            "FOOD_AND_DRINK : 112\n",
            "EDUCATION : 106\n",
            "ENTERTAINMENT : 87\n",
            "LIBRARIES_AND_DEMO : 84\n",
            "AUTO_AND_VEHICLES : 84\n",
            "WEATHER : 79\n",
            "HOUSE_AND_HOME : 73\n",
            "EVENTS : 64\n",
            "PARENTING : 60\n",
            "ART_AND_DESIGN : 60\n",
            "COMICS : 55\n",
            "BEAUTY : 53\n"
          ],
          "name": "stdout"
        }
      ]
    },
    {
      "cell_type": "code",
      "metadata": {
        "id": "aEhTE2q58FEs",
        "colab_type": "code",
        "colab": {},
        "outputId": "4e94b358-7de8-4b13-b2cc-aaf703ef23cc"
      },
      "source": [
        "display_table(free_andr, 9)"
      ],
      "execution_count": 0,
      "outputs": [
        {
          "output_type": "stream",
          "text": [
            "Tools : 827\n",
            "Entertainment : 557\n",
            "Education : 503\n",
            "Business : 419\n",
            "Medical : 395\n",
            "Personalization : 375\n",
            "Productivity : 373\n",
            "Lifestyle : 363\n",
            "Finance : 345\n",
            "Sports : 331\n",
            "Communication : 314\n",
            "Action : 299\n",
            "Health & Fitness : 288\n",
            "Photography : 280\n",
            "News & Magazines : 250\n",
            "Social : 239\n",
            "Travel & Local : 218\n",
            "Books & Reference : 218\n",
            "Shopping : 201\n",
            "Simulation : 190\n",
            "Arcade : 184\n",
            "Dating : 170\n",
            "Casual : 165\n",
            "Video Players & Editors : 161\n",
            "Maps & Navigation : 129\n",
            "Puzzle : 119\n",
            "Food & Drink : 112\n",
            "Role Playing : 104\n",
            "Strategy : 94\n",
            "Racing : 91\n",
            "Libraries & Demo : 84\n",
            "Auto & Vehicles : 84\n",
            "Weather : 79\n",
            "House & Home : 73\n",
            "Adventure : 72\n",
            "Events : 64\n",
            "Art & Design : 56\n",
            "Comics : 54\n",
            "Beauty : 53\n",
            "Card : 47\n",
            "Parenting : 46\n",
            "Board : 42\n",
            "Casino : 39\n",
            "Educational;Education : 38\n",
            "Trivia : 37\n",
            "Educational : 37\n",
            "Education;Education : 35\n",
            "Casual;Pretend Play : 25\n",
            "Word : 23\n"
          ],
          "name": "stdout"
        }
      ]
    },
    {
      "cell_type": "markdown",
      "metadata": {
        "id": "tuy61Ruw8FE0",
        "colab_type": "text"
      },
      "source": [
        "Based on free android apps frequency table, we can see that tools and entertainment are most common genres for Google Play store as well.\n",
        "Combining both markets tables, we can say that tools and entertainment genres should be in our mind when creating a new app. However, these tables do not take into account the number of users for each genre. For this purpose, we will need to add more insights based on the number of users for genres."
      ]
    },
    {
      "cell_type": "code",
      "metadata": {
        "id": "oSPA9ucA8FE1",
        "colab_type": "code",
        "colab": {}
      },
      "source": [
        "# sort_dictionary for our dictionary\n",
        "def sort_dict(table):\n",
        "    table_display = []\n",
        "    for key in table:\n",
        "        key_val_as_tuple = (table[key], key)\n",
        "        table_display.append(key_val_as_tuple)\n",
        "\n",
        "    table_sorted = sorted(table_display, reverse = True)\n",
        "    for entry in table_sorted:\n",
        "        if entry[0]>20:\n",
        "            print(entry[1], ':', entry[0])"
      ],
      "execution_count": 0,
      "outputs": []
    },
    {
      "cell_type": "code",
      "metadata": {
        "id": "45tnu8Wz8FE8",
        "colab_type": "code",
        "colab": {}
      },
      "source": [
        "def avg_users(table, index, installs): # table is dataset, index is the location of genres column, \n",
        "                                       # installs is the count of installations/users.\n",
        "    os_genres = freq_table(table, index)\n",
        "    os_avg_usr = {}\n",
        "    for genre in os_genres:\n",
        "        total = 0\n",
        "        len_genre = 0\n",
        "        for app in table:\n",
        "            genre_app = app[index]\n",
        "            if genre_app == genre:\n",
        "                if '+' in app[installs]:\n",
        "                    users = app[installs]\n",
        "                    users = users.replace('+', '')\n",
        "                    users = users.replace(',','')\n",
        "                    users = float(users)\n",
        "                else:\n",
        "                    users = float(app[installs])\n",
        "                total += users\n",
        "                len_genre += 1\n",
        "        avg_users = total/len_genre\n",
        "        os_avg_usr[genre]=round(avg_users)\n",
        "    sort_dict(os_avg_usr)"
      ],
      "execution_count": 0,
      "outputs": []
    },
    {
      "cell_type": "code",
      "metadata": {
        "id": "LR6QEs8_8FFC",
        "colab_type": "code",
        "colab": {},
        "outputId": "8774a492-d72e-4c1d-9710-57574daddccd"
      },
      "source": [
        "avg_users(free_ios, 11, 5)"
      ],
      "execution_count": 0,
      "outputs": [
        {
          "output_type": "stream",
          "text": [
            "Navigation : 86090\n",
            "Reference : 74942\n",
            "Social Networking : 71548\n",
            "Music : 57327\n",
            "Weather : 52280\n",
            "Book : 39758\n",
            "Food & Drink : 33334\n",
            "Finance : 31468\n",
            "Photo & Video : 28442\n",
            "Travel : 28244\n",
            "Shopping : 26920\n",
            "Health & Fitness : 23298\n",
            "Sports : 23009\n",
            "Games : 22789\n",
            "News : 21248\n",
            "Productivity : 21028\n",
            "Utilities : 18684\n",
            "Lifestyle : 16486\n",
            "Entertainment : 14030\n",
            "Business : 7491\n",
            "Education : 7004\n",
            "Catalogs : 4004\n",
            "Medical : 612\n"
          ],
          "name": "stdout"
        }
      ]
    },
    {
      "cell_type": "markdown",
      "metadata": {
        "id": "n_oponIE8FFG",
        "colab_type": "text"
      },
      "source": [
        "The average number of users for each genre for iOS apps shown above. Navigation genre has the highest number of users and the runner-up is reference genre."
      ]
    },
    {
      "cell_type": "code",
      "metadata": {
        "id": "T4AaPbLr8FFI",
        "colab_type": "code",
        "colab": {},
        "outputId": "e04205b8-976e-4cc8-e589-38f6cbd3c0e2"
      },
      "source": [
        "avg_users(free_andr, 1, 5)"
      ],
      "execution_count": 0,
      "outputs": [
        {
          "output_type": "stream",
          "text": [
            "COMMUNICATION : 35153714\n",
            "VIDEO_PLAYERS : 24121489\n",
            "SOCIAL : 22961790\n",
            "PHOTOGRAPHY : 16636241\n",
            "PRODUCTIVITY : 15530942\n",
            "GAME : 14256218\n",
            "TRAVEL_AND_LOCAL : 13218663\n",
            "ENTERTAINMENT : 11375402\n",
            "TOOLS : 9785955\n",
            "NEWS_AND_MAGAZINES : 9472807\n",
            "BOOKS_AND_REFERENCE : 7641778\n",
            "SHOPPING : 6966909\n",
            "WEATHER : 4570893\n",
            "PERSONALIZATION : 4086652\n",
            "HEALTH_AND_FITNESS : 3972300\n",
            "MAPS_AND_NAVIGATION : 3900635\n",
            "SPORTS : 3373768\n",
            "FAMILY : 3345019\n",
            "FOOD_AND_DRINK : 1891060\n",
            "ART_AND_DESIGN : 1887285\n",
            "EDUCATION : 1782566\n",
            "BUSINESS : 1663759\n",
            "LIFESTYLE : 1369955\n",
            "HOUSE_AND_HOME : 1331541\n",
            "FINANCE : 1319851\n",
            "DATING : 828971\n",
            "COMICS : 817657\n",
            "AUTO_AND_VEHICLES : 632501\n",
            "LIBRARIES_AND_DEMO : 630904\n",
            "PARENTING : 525352\n",
            "BEAUTY : 513152\n",
            "EVENTS : 249581\n",
            "MEDICAL : 96944\n"
          ],
          "name": "stdout"
        }
      ]
    },
    {
      "cell_type": "markdown",
      "metadata": {
        "id": "KXHzLiQv8FFN",
        "colab_type": "text"
      },
      "source": [
        "The average number of users for Android app genres is shown above. Communication genre has the highest number of average users. This includes messengers and other texting/calling apps. We recommend that our company should also create an app in communication category."
      ]
    },
    {
      "cell_type": "code",
      "metadata": {
        "id": "2B0QeaYI8FFR",
        "colab_type": "code",
        "colab": {}
      },
      "source": [
        ""
      ],
      "execution_count": 0,
      "outputs": []
    }
  ]
}