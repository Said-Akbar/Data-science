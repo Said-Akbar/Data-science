{
  "nbformat": 4,
  "nbformat_minor": 0,
  "metadata": {
    "colab": {
      "name": "Hackerrank_Quora_answer_classifier.ipynb",
      "version": "0.3.2",
      "provenance": [],
      "include_colab_link": true
    },
    "kernelspec": {
      "name": "python3",
      "display_name": "Python 3"
    }
  },
  "cells": [
    {
      "cell_type": "markdown",
      "metadata": {
        "id": "view-in-github",
        "colab_type": "text"
      },
      "source": [
        "<a href=\"https://colab.research.google.com/github/Said-Akbar/Data-science/blob/master/HackerRank_Quora_answer_classifier.ipynb\" target=\"_parent\"><img src=\"https://colab.research.google.com/assets/colab-badge.svg\" alt=\"Open In Colab\"/></a>"
      ]
    },
    {
      "cell_type": "markdown",
      "metadata": {
        "id": "Y2aQAxlelKvV",
        "colab_type": "text"
      },
      "source": [
        "  ## Quora answer classifier using logistic regression\n",
        "\n",
        "\n",
        "\n"
      ]
    },
    {
      "cell_type": "markdown",
      "metadata": {
        "id": "Ifcmr4YJkx04",
        "colab_type": "text"
      },
      "source": [
        "This is my solution for a ML exercise on HackerRank. The link for the the problem set is [here](https://www.hackerrank.com/challenges/quora-answer-classifier/problem). The description for the task:\n",
        "\n",
        "\n",
        "---\n",
        "\n"
      ]
    },
    {
      "cell_type": "markdown",
      "metadata": {
        "id": "yRnsLcpOlJvt",
        "colab_type": "text"
      },
      "source": [
        "<p>Quora uses a combination of machine learning (ML) algorithms and moderation to ensure high-quality content on the site. High answer quality has helped Quora distinguish itself from other Q&amp;A sites on the web. &nbsp;<br /><br />Your task will be to devise a classifier that is able to tell good answers from bad answers, as well as humans can. &nbsp;A good answer is denoted by a +1 in our system, and a bad answer is denoted by a -1.</p>\n",
        "<p><strong>Input Format:</strong></p>\n",
        "<p>The first line contains N, M. N = Number of training data records, M = number of parameters. Followed by N lines containing records of training data. Then one integer q, q = number of records to be classified, followed by q lines of query data<br />Training data corresponds to the following format:<br />(:)*<br /><br />Query data corresponds to the following format:<br />(:)*</p>\n",
        "<p>The answer identifier &nbsp;is an alphanumeric string of no more than 10 chars. &nbsp;Each identifier is guaranteed unique. &nbsp;All feature values are doubles.</p>\n",
        "<p>The data is extracted from real production data, and thus will not include the raw form of the&nbsp;answers. We, however, have extracted as many features as we think are useful, and you can&nbsp;decide which features make sense to be included in your final algorithm. The actual labelling of&nbsp;a good answer and bad answer is done organically on our site, through both human moderators&nbsp;as well as our own classifier.</p>\n",
        "<p><strong>Output Format:</strong></p>\n",
        "<p>For each query, you should output q lines to stdout, representing the decision made by your&nbsp;classifier, whether each answer is good or not:</p>\n",
        "<p><strong>Constraints:</strong></p>\n",
        "<p>0 0 0&nbsp;<br /><strong>Sample Input:</strong></p>\n",
        "<p>5 23<br />2LuzC +1 1:2101216030446 2:1.807711 3:1 4:4.262680 5:4.488636 6:87.000000 7:0.000000 8:0.000000 9:0 10:0 11:3.891820 12:0 13:1 14:0 15:0 16:0 17:1 18:1 19:0 20:2 21:2.197225 22:0.000000 23:0.000000<br />LmnUc +1 1:99548723068 2:3.032810 3:1 4:2.772589 5:2.708050 6:0.000000 7:0.000000 8:0.000000 9:0 10:0 11:4.727388 12:5 13:1 14:0 15:0 16:1 17:1 18:0 19:0 20:9 21:2.833213 22:0.000000 23:0.000000<br />ZINTz -1 1:3030695193589 2:1.741764 3:1 4:2.708050 5:4.248495 6:0.000000 7:0.000000 8:0.000000 9:0 10:0 11:3.091042 12:1 13:1 14:0 15:0 16:0 17:1 18:1 19:0 20:5 21:2.564949 22:0.000000 23:0.000000<br />gX60q +1 1:2086220371355 2:1.774193 3:1 4:3.258097 5:3.784190 6:0.000000 7:0.000000 8:0.000000 9:0 10:0 11:3.258097 12:0 13:1 14:0 15:0 16:0 17:1 18:0 19:0 20:5 21:2.995732 22:0.000000 23:0.000000<br />5HG4U -1 1:352013287143 2:1.689824 3:1 4:0.000000 5:0.693147 6:0.000000 7:0.000000 8:0.000000 9:0 10:1 11:1.791759 12:0 13:1 14:1 15:0 16:1 17:0 18:0 19:0 20:4 21:2.197225 22:0.000000 23:0.000000<br />2<br />PdxMK 1:340674897225 2:1.744152 3:1 4:5.023881 5:7.042286 6:0.000000 7:0.000000 8:0.000000 9:0 10:0 11:3.367296 12:0 13:1 14:0 15:0 16:0 17:0 18:0 19:0 20:12 21:4.499810 22:0.000000 23:0.000000<br />ehZ0a 1:2090062840058 2:1.939101 3:1 4:3.258097 5:2.995732 6:75.000000 7:0.000000 8:0.000000 9:0 10:0 11:3.433987 12:0 13:1 14:0 15:0 16:1 17:0 18:0 19:0 20:3 21:2.639057 22:0.000000 23:0.000000<br /><br /><br /><br /><strong>Sample Output:</strong><br /><br />PdxMK +1<br />ehZ0a -1<br /><br />You will be given a relative large input dataset with its corresponding output to finetune your program with your ML libraries.<br /><br /><strong>Scoring</strong><br />Only one very large dataset will be given for this problem as input to your program for scoring. &nbsp;This input data set will not be revealed to you.<br /><br />Output for every classification is awarded points separately. The score for this problem will be the sum of points for each correct classification. To prevent naive solution credit (outputting all +1s, for example), points are awarded only after X correct classifications, where X is number of +1 answers or -1 answers (whichever is greater).&nbsp;</p>\n",
        "\n",
        "---\n",
        "My solution using logistic regression (passed all the test cases on HackerRank):"
      ]
    },
    {
      "cell_type": "code",
      "metadata": {
        "id": "Ozd_KSAhltru",
        "colab_type": "code",
        "colab": {}
      },
      "source": [
        "# Enter your code here. Read input from STDIN. Print output to STDOUT\n",
        "import pandas as pd\n",
        "import numpy as np \n",
        "\n",
        "a = input()\n",
        "record=a.split()[0]\n",
        "param = a.split()[1]\n",
        "ntrain = []\n",
        "for i in range (0,int(record)):\n",
        "    line = input()\n",
        "    line = line.split()\n",
        "    ntrain.append(line)\n",
        "df = pd.DataFrame(ntrain)\n",
        "for i in range(2,int(param)+2):\n",
        "    df[i]=df[i].apply(lambda a: str(a).split(':')[1])\n",
        "df[1]=df[1].apply(lambda a: str(a).replace('+1', '1') if a==\"+1\" else 0)\n",
        "#print(df.info())\n",
        "\n",
        "testl=[]\n",
        "ntest = input()\n",
        "for i in range(0, int(ntest)):\n",
        "    line = input()\n",
        "    line = line.split()\n",
        "    testl.append(line)\n",
        "dftest = pd.DataFrame(testl)\n",
        "for i in range(1,int(param)+1):\n",
        "    dftest[i]=dftest[i].apply(lambda a: str(a).split(':')[1])\n",
        "#print(dftest)\n",
        "\n",
        "from sklearn.linear_model import LogisticRegression\n",
        "X = df.iloc[:,2:]\n",
        "y = df[1]\n",
        "#print(X)\n",
        "cols=X.columns\n",
        "for col in cols:\n",
        "    X[col]=X[col].astype(np.float64) #converting\n",
        "  \n",
        "y = y.astype(np.int)\n",
        "#print(y)\n",
        "logreg=LogisticRegression()\n",
        "logreg.fit(X.iloc[:,1:],y)\n",
        "#print(logreg.coef_)\n",
        "cols=dftest.columns[1:]\n",
        "\n",
        "for col in cols:\n",
        "    dftest[col]=dftest[col].astype(np.float64)\n",
        "\n",
        "dftest.rename(columns=lambda x: x+1, inplace=True) #renaming columns\n",
        "\n",
        "# print(np.arange(2,int(param)+2))\n",
        "# dftest.columns[1:] = np.arange(2,int(param)+2)\n",
        "#print(dftest)\n",
        "pred = logreg.predict(dftest.iloc[:,2:])\n",
        "#print(pred)\n",
        "pred=map(lambda a: '+1' if a==1 else '-1',pred) # assigning two values\n",
        "\n",
        "for i,val in enumerate(pred):\n",
        "    print(dftest.iloc[i,0], val)\n",
        "\n"
      ],
      "execution_count": 0,
      "outputs": []
    }
  ]
}