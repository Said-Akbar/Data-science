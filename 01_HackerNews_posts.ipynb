{
  "nbformat": 4,
  "nbformat_minor": 0,
  "metadata": {
    "kernelspec": {
      "display_name": "Python 3",
      "language": "python",
      "name": "python3"
    },
    "language_info": {
      "codemirror_mode": {
        "name": "ipython",
        "version": 3
      },
      "file_extension": ".py",
      "mimetype": "text/x-python",
      "name": "python",
      "nbconvert_exporter": "python",
      "pygments_lexer": "ipython3",
      "version": "3.4.3"
    },
    "colab": {
      "name": "hackerNews.ipynb",
      "version": "0.3.2",
      "provenance": [],
      "include_colab_link": true
    }
  },
  "cells": [
    {
      "cell_type": "markdown",
      "metadata": {
        "id": "view-in-github",
        "colab_type": "text"
      },
      "source": [
        "<a href=\"https://colab.research.google.com/github/Said-Akbar/Data-science/blob/master/HackerNews_posts.ipynb\" target=\"_parent\"><img src=\"https://colab.research.google.com/assets/colab-badge.svg\" alt=\"Open In Colab\"/></a>"
      ]
    },
    {
      "cell_type": "markdown",
      "metadata": {
        "collapsed": true,
        "id": "eCPMVfbUJQ0y",
        "colab_type": "text"
      },
      "source": [
        "## Hacker News post analysis\n",
        "Hacker News is a platform for posting stories related to technology which gets upvoted and commented (similar to Reddit). The dataset we are working with has been obtained from [Kaggle](https://www.kaggle.com/hacker-news/hacker-news-posts) and modified so that it only includes posts that have at least one comment. There are two types of posts that we are particularly interested in:\n",
        "- Posts that start with **Ask HN:** that ask the Hacker News community a question related to projects and technology.\n",
        "- Posts with **Show HN** that showcases the user's project to the community.\n",
        "\n",
        "Our main task will be which of the two types of posts above get more comments and whether the time of the day is important in receiving more comments.\n"
      ]
    },
    {
      "cell_type": "code",
      "metadata": {
        "id": "6Nwfsm7RJQ00",
        "colab_type": "code",
        "colab": {},
        "outputId": "e4788ee4-2cc3-4996-f478-167477dd57b9"
      },
      "source": [
        "from csv import reader\n",
        "# we will not use any pandas or numpy at this point. Thus, we will need to code a few more lines.\n",
        "file = open(\"hacker_news.csv\")\n",
        "output = reader(file)\n",
        "hn = list(output)\n",
        "header = hn[0]\n",
        "hn = hn[1:]\n",
        "print(header, '\\n')\n",
        "print(hn[0], '\\n')\n",
        "print(hn[1], '\\n')"
      ],
      "execution_count": 0,
      "outputs": [
        {
          "output_type": "stream",
          "text": [
            "['id', 'title', 'url', 'num_points', 'num_comments', 'author', 'created_at'] \n",
            "\n",
            "['12224879', 'Interactive Dynamic Video', 'http://www.interactivedynamicvideo.com/', '386', '52', 'ne0phyte', '8/4/2016 11:52'] \n",
            "\n",
            "['10975351', 'How to Use Open Source and Shut the Fuck Up at the Same Time', 'http://hueniverse.com/2016/01/26/how-to-use-open-source-and-shut-the-fuck-up-at-the-same-time/', '39', '10', 'josep2', '1/26/2016 19:30'] \n",
            "\n"
          ],
          "name": "stdout"
        }
      ]
    },
    {
      "cell_type": "markdown",
      "metadata": {
        "id": "zdj5wiaUJQ08",
        "colab_type": "text"
      },
      "source": [
        "The dataset contains 7 columns. Considering the first column is id, we are interested in those 6 columns."
      ]
    },
    {
      "cell_type": "code",
      "metadata": {
        "id": "WppRmAOwJQ09",
        "colab_type": "code",
        "colab": {},
        "outputId": "3ca2baa4-a572-4e6e-f029-a33bd700e616"
      },
      "source": [
        "hn[:3] # header is removed"
      ],
      "execution_count": 0,
      "outputs": [
        {
          "output_type": "execute_result",
          "data": {
            "text/plain": [
              "[['12224879',\n",
              "  'Interactive Dynamic Video',\n",
              "  'http://www.interactivedynamicvideo.com/',\n",
              "  '386',\n",
              "  '52',\n",
              "  'ne0phyte',\n",
              "  '8/4/2016 11:52'],\n",
              " ['10975351',\n",
              "  'How to Use Open Source and Shut the Fuck Up at the Same Time',\n",
              "  'http://hueniverse.com/2016/01/26/how-to-use-open-source-and-shut-the-fuck-up-at-the-same-time/',\n",
              "  '39',\n",
              "  '10',\n",
              "  'josep2',\n",
              "  '1/26/2016 19:30'],\n",
              " ['11964716',\n",
              "  \"Florida DJs May Face Felony for April Fools' Water Joke\",\n",
              "  'http://www.thewire.com/entertainment/2013/04/florida-djs-april-fools-water-joke/63798/',\n",
              "  '2',\n",
              "  '1',\n",
              "  'vezycash',\n",
              "  '6/23/2016 22:20']]"
            ]
          },
          "metadata": {
            "tags": []
          },
          "execution_count": 8
        }
      ]
    },
    {
      "cell_type": "code",
      "metadata": {
        "id": "08QikbehJQ1C",
        "colab_type": "code",
        "colab": {},
        "outputId": "b9aef8ee-6e19-49e3-d877-3c32de458c99"
      },
      "source": [
        "ask_posts = []\n",
        "show_posts = []\n",
        "other_posts = []\n",
        "\n",
        "for row in hn:\n",
        "    title = row[1].lower()\n",
        "    if title.startswith('ask hn'):\n",
        "        ask_posts.append(row)\n",
        "    elif title.startswith('show hn'):\n",
        "        show_posts.append(row)\n",
        "    else:\n",
        "        other_posts.append(row)\n",
        "\n",
        "print(\"The number of ask posts:\", len(ask_posts))\n",
        "print(\"The number of show posts:\", len(show_posts))\n",
        "print(\"The number of other posts:\", len(other_posts))"
      ],
      "execution_count": 0,
      "outputs": [
        {
          "output_type": "stream",
          "text": [
            "The number of ask posts: 1744\n",
            "The number of show posts: 1162\n",
            "The number of other posts: 17194\n"
          ],
          "name": "stdout"
        }
      ]
    },
    {
      "cell_type": "code",
      "metadata": {
        "id": "jwdmcIvrJQ1G",
        "colab_type": "code",
        "colab": {},
        "outputId": "a238d569-51e6-4729-8da0-4437d7bba37a"
      },
      "source": [
        "total_ask_comments = 0\n",
        "\n",
        "\n",
        "for post in ask_posts:\n",
        "    comments = int(post[4])\n",
        "    total_ask_comments +=comments\n",
        "    \n",
        "avg_ask_comments = total_ask_comments / len(ask_posts)\n",
        "print('ask:', avg_ask_comments)\n",
        "\n",
        "total_show_comments = 0\n",
        "for post in show_posts:\n",
        "    comments = int(post[4])\n",
        "    total_show_comments += comments\n",
        "\n",
        "avg_show_comments = total_show_comments / len(show_posts)   \n",
        "print('show:', avg_show_comments)\n"
      ],
      "execution_count": 0,
      "outputs": [
        {
          "output_type": "stream",
          "text": [
            "ask: 14.038417431192661\n",
            "show: 10.31669535283993\n"
          ],
          "name": "stdout"
        }
      ]
    },
    {
      "cell_type": "markdown",
      "metadata": {
        "id": "Po3eQ3snJQ1M",
        "colab_type": "text"
      },
      "source": [
        "As we can see, ask posts receive more comments on average. We will focus on ask posts now. Let us try to determine how many posts and comments are received hourly. "
      ]
    },
    {
      "cell_type": "code",
      "metadata": {
        "id": "mUGU1RJpJQ1N",
        "colab_type": "code",
        "colab": {}
      },
      "source": [
        "import datetime as dt\n",
        "result_list = []\n",
        "\n",
        "for row in ask_posts: # create a dictionary of posts and comments with time\n",
        "    time = row[6]\n",
        "    comments = int(row[4])\n",
        "    result_list.append([time, comments])\n",
        "counts_by_hour = {}\n",
        "comments_by_hour = {}\n",
        "\n",
        "for item in result_list: # count the number of posts each hour (minutes not included), count of comments in an hour for all ask posts \n",
        "    date = dt.datetime.strptime(item[0], \"%m/%d/%Y %H:%M\")\n",
        "    time = dt.datetime.strftime(date, \"%H\")\n",
        "    if time not in counts_by_hour:\n",
        "        counts_by_hour[time] = 1\n",
        "        comments_by_hour[time] = item[1]\n",
        "    else:\n",
        "        counts_by_hour[time] += 1\n",
        "        comments_by_hour[time] += item[1]"
      ],
      "execution_count": 0,
      "outputs": []
    },
    {
      "cell_type": "code",
      "metadata": {
        "id": "nPGIQHKkJQ1Q",
        "colab_type": "code",
        "colab": {},
        "outputId": "4fda9341-38cf-45d5-c580-de9be0289689"
      },
      "source": [
        "avg_comments_per_post = []\n",
        "for hour in sorted(comments_by_hour):\n",
        "    avg_comments_per_post.append([hour,round(comments_by_hour[hour]/counts_by_hour[hour],2)])\n",
        "avg_comments_per_post"
      ],
      "execution_count": 0,
      "outputs": [
        {
          "output_type": "execute_result",
          "data": {
            "text/plain": [
              "[['00', 8.13],\n",
              " ['01', 11.38],\n",
              " ['02', 23.81],\n",
              " ['03', 7.8],\n",
              " ['04', 7.17],\n",
              " ['05', 10.09],\n",
              " ['06', 9.02],\n",
              " ['07', 7.85],\n",
              " ['08', 10.25],\n",
              " ['09', 5.58],\n",
              " ['10', 13.44],\n",
              " ['11', 11.05],\n",
              " ['12', 9.41],\n",
              " ['13', 14.74],\n",
              " ['14', 13.23],\n",
              " ['15', 38.59],\n",
              " ['16', 16.8],\n",
              " ['17', 11.46],\n",
              " ['18', 13.2],\n",
              " ['19', 10.8],\n",
              " ['20', 21.52],\n",
              " ['21', 16.01],\n",
              " ['22', 6.75],\n",
              " ['23', 7.99]]"
            ]
          },
          "metadata": {
            "tags": []
          },
          "execution_count": 39
        }
      ]
    },
    {
      "cell_type": "code",
      "metadata": {
        "id": "r1XCqZBMJQ1V",
        "colab_type": "code",
        "colab": {},
        "outputId": "44ddfc18-7cf7-403f-a907-771b660e6df9"
      },
      "source": [
        "swap_avg_by_hour = []\n",
        "for item in avg_comments_per_post:\n",
        "    swap_avg_by_hour.append([item[1], item[0]])\n",
        "print(swap_avg_by_hour)"
      ],
      "execution_count": 0,
      "outputs": [
        {
          "output_type": "stream",
          "text": [
            "[[8.13, '00'], [11.38, '01'], [23.81, '02'], [7.8, '03'], [7.17, '04'], [10.09, '05'], [9.02, '06'], [7.85, '07'], [10.25, '08'], [5.58, '09'], [13.44, '10'], [11.05, '11'], [9.41, '12'], [14.74, '13'], [13.23, '14'], [38.59, '15'], [16.8, '16'], [11.46, '17'], [13.2, '18'], [10.8, '19'], [21.52, '20'], [16.01, '21'], [6.75, '22'], [7.99, '23']]\n"
          ],
          "name": "stdout"
        }
      ]
    },
    {
      "cell_type": "code",
      "metadata": {
        "id": "IE8dp6ksJQ1a",
        "colab_type": "code",
        "colab": {}
      },
      "source": [
        "sorted_swap = sorted(swap_avg_by_hour, reverse=True)"
      ],
      "execution_count": 0,
      "outputs": []
    },
    {
      "cell_type": "code",
      "metadata": {
        "id": "rg9EQAIaJQ1d",
        "colab_type": "code",
        "colab": {},
        "outputId": "41f25afb-c6d6-4a80-f3d2-ca610922c3b5"
      },
      "source": [
        "print(\"Top 5 Hours for Ask Posts Comments\")\n",
        "for i in sorted_swap[:5]:\n",
        "    print(\"{}:00: {} average comments per post\".format(i[1],i[0]))"
      ],
      "execution_count": 0,
      "outputs": [
        {
          "output_type": "stream",
          "text": [
            "Top 5 Hours for Ask Posts Comments\n",
            "15:00: 38.59 average comments per post\n",
            "02:00: 23.81 average comments per post\n",
            "20:00: 21.52 average comments per post\n",
            "16:00: 16.8 average comments per post\n",
            "21:00: 16.01 average comments per post\n"
          ],
          "name": "stdout"
        }
      ]
    },
    {
      "cell_type": "markdown",
      "metadata": {
        "id": "QuTzSALwJQ1h",
        "colab_type": "text"
      },
      "source": [
        "According to findings, it is best to post at 15:00 to receive more comments. The timezone for the dataset is ETS. So, if we are in Pacific Time zone (San Francisco), we should post at 18:00 to have higher chances of receiving comments."
      ]
    },
    {
      "cell_type": "code",
      "metadata": {
        "id": "jrdNUFuUJQ1i",
        "colab_type": "code",
        "colab": {}
      },
      "source": [
        ""
      ],
      "execution_count": 0,
      "outputs": []
    }
  ]
}
